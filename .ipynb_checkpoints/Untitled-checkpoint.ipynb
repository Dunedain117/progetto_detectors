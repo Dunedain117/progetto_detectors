{
 "cells": [
  {
   "cell_type": "code",
   "execution_count": 1,
   "id": "812618e6",
   "metadata": {},
   "outputs": [],
   "source": [
    "import pandas as pd\n",
    "import numpy as np\n",
    "import matplotlib as pt"
   ]
  },
  {
   "cell_type": "code",
   "execution_count": 11,
   "id": "fc7e8f25",
   "metadata": {},
   "outputs": [
    {
     "name": "stdout",
     "output_type": "stream",
     "text": [
      "                       0\\t-150\\t0\\t0\\t150\\t0\\t0\\t0\n",
      "0                   1\\t-147\\t0\\t0\\t148\\t1.67\\t3\\t3\n",
      "1      2\\t-144\\t-0.00611\\t-0.0125\\t147\\t1.48\\t3\\t6\n",
      "2           3\\t-141\\t-44\\t-0.0251\\t145\\t1.49\\t3\\t9\n",
      "3           4\\t-138\\t-76\\t-0.0363\\t144\\t1.8\\t3\\t12\n",
      "4         5\\t-135\\t-112\\t-0.0352\\t142\\t2.03\\t3\\t15\n",
      "..                                             ...\n",
      "78       79\\t8.91\\t-1.85\\t-2.94\\t4.22\\t1\\t124\\t159\n",
      "79    80\\t9\\t-1.86\\t-2.94\\t3.29\\t0.93\\t0.0914\\t159\n",
      "80  81\\t9.09\\t-1.87\\t-2.94\\t2.1\\t1.18\\t0.0951\\t159\n",
      "81  82\\t9.17\\t-1.88\\t-2.94\\t595\\t1.51\\t0.0713\\t159\n",
      "82     83\\t9.18\\t-1.88\\t-2.94\\t0\\t595\\t0.0115\\t159\n",
      "\n",
      "[83 rows x 1 columns]\n"
     ]
    }
   ],
   "source": [
    "df = pd.read_csv(\"data_csv.csv\",sep=\"\\t\")\n",
    "\n",
    "\n",
    "\n",
    "print(df)"
   ]
  },
  {
   "cell_type": "code",
   "execution_count": null,
   "id": "fb9fcd25",
   "metadata": {},
   "outputs": [],
   "source": []
  }
 ],
 "metadata": {
  "kernelspec": {
   "display_name": "Python 3 (ipykernel)",
   "language": "python",
   "name": "python3"
  },
  "language_info": {
   "codemirror_mode": {
    "name": "ipython",
    "version": 3
   },
   "file_extension": ".py",
   "mimetype": "text/x-python",
   "name": "python",
   "nbconvert_exporter": "python",
   "pygments_lexer": "ipython3",
   "version": "3.10.6"
  }
 },
 "nbformat": 4,
 "nbformat_minor": 5
}
